{
 "cells": [
  {
   "cell_type": "code",
   "execution_count": 51,
   "id": "e370f161",
   "metadata": {},
   "outputs": [],
   "source": [
    "import pandas as pd\n",
    "import seaborn as sns\n",
    "import matplotlib.pyplot as plt"
   ]
  },
  {
   "cell_type": "markdown",
   "id": "8292b81e",
   "metadata": {},
   "source": [
    "Load and preprocess dataset"
   ]
  },
  {
   "cell_type": "code",
   "execution_count": 52,
   "id": "5d68f381",
   "metadata": {},
   "outputs": [
    {
     "data": {
      "text/html": [
       "<div>\n",
       "<style scoped>\n",
       "    .dataframe tbody tr th:only-of-type {\n",
       "        vertical-align: middle;\n",
       "    }\n",
       "\n",
       "    .dataframe tbody tr th {\n",
       "        vertical-align: top;\n",
       "    }\n",
       "\n",
       "    .dataframe thead th {\n",
       "        text-align: right;\n",
       "    }\n",
       "</style>\n",
       "<table border=\"1\" class=\"dataframe\">\n",
       "  <thead>\n",
       "    <tr style=\"text-align: right;\">\n",
       "      <th></th>\n",
       "      <th>Date</th>\n",
       "      <th>Location</th>\n",
       "      <th>MinTemp</th>\n",
       "      <th>MaxTemp</th>\n",
       "      <th>Rainfall</th>\n",
       "      <th>Evaporation</th>\n",
       "      <th>Sunshine</th>\n",
       "      <th>WindGustDir</th>\n",
       "      <th>WindGustSpeed</th>\n",
       "      <th>WindDir9am</th>\n",
       "      <th>...</th>\n",
       "      <th>Humidity3pm</th>\n",
       "      <th>Pressure9am</th>\n",
       "      <th>Pressure3pm</th>\n",
       "      <th>Cloud9am</th>\n",
       "      <th>Cloud3pm</th>\n",
       "      <th>Temp9am</th>\n",
       "      <th>Temp3pm</th>\n",
       "      <th>RainToday</th>\n",
       "      <th>RISK_MM</th>\n",
       "      <th>RainTomorrow</th>\n",
       "    </tr>\n",
       "  </thead>\n",
       "  <tbody>\n",
       "    <tr>\n",
       "      <th>0</th>\n",
       "      <td>2009-01-01</td>\n",
       "      <td>NorfolkIsland</td>\n",
       "      <td>20.4</td>\n",
       "      <td>25.8</td>\n",
       "      <td>0.0</td>\n",
       "      <td>6.0</td>\n",
       "      <td>12.4</td>\n",
       "      <td>NNW</td>\n",
       "      <td>31.0</td>\n",
       "      <td>NNW</td>\n",
       "      <td>...</td>\n",
       "      <td>71.0</td>\n",
       "      <td>1014.5</td>\n",
       "      <td>1013.6</td>\n",
       "      <td>3.0</td>\n",
       "      <td>1.0</td>\n",
       "      <td>23.3</td>\n",
       "      <td>24.7</td>\n",
       "      <td>No</td>\n",
       "      <td>0.2</td>\n",
       "      <td>No</td>\n",
       "    </tr>\n",
       "    <tr>\n",
       "      <th>1</th>\n",
       "      <td>2009-01-02</td>\n",
       "      <td>NorfolkIsland</td>\n",
       "      <td>20.9</td>\n",
       "      <td>26.7</td>\n",
       "      <td>0.2</td>\n",
       "      <td>8.0</td>\n",
       "      <td>10.3</td>\n",
       "      <td>N</td>\n",
       "      <td>31.0</td>\n",
       "      <td>NNE</td>\n",
       "      <td>...</td>\n",
       "      <td>77.0</td>\n",
       "      <td>1016.3</td>\n",
       "      <td>1015.5</td>\n",
       "      <td>2.0</td>\n",
       "      <td>5.0</td>\n",
       "      <td>25.0</td>\n",
       "      <td>25.1</td>\n",
       "      <td>No</td>\n",
       "      <td>0.0</td>\n",
       "      <td>No</td>\n",
       "    </tr>\n",
       "    <tr>\n",
       "      <th>2</th>\n",
       "      <td>2009-01-03</td>\n",
       "      <td>NorfolkIsland</td>\n",
       "      <td>22.3</td>\n",
       "      <td>26.3</td>\n",
       "      <td>0.0</td>\n",
       "      <td>3.2</td>\n",
       "      <td>2.0</td>\n",
       "      <td>E</td>\n",
       "      <td>35.0</td>\n",
       "      <td>ENE</td>\n",
       "      <td>...</td>\n",
       "      <td>90.0</td>\n",
       "      <td>1014.6</td>\n",
       "      <td>1014.3</td>\n",
       "      <td>7.0</td>\n",
       "      <td>7.0</td>\n",
       "      <td>24.7</td>\n",
       "      <td>23.8</td>\n",
       "      <td>No</td>\n",
       "      <td>1.2</td>\n",
       "      <td>Yes</td>\n",
       "    </tr>\n",
       "    <tr>\n",
       "      <th>3</th>\n",
       "      <td>2009-01-04</td>\n",
       "      <td>NorfolkIsland</td>\n",
       "      <td>21.6</td>\n",
       "      <td>22.2</td>\n",
       "      <td>1.2</td>\n",
       "      <td>2.8</td>\n",
       "      <td>0.0</td>\n",
       "      <td>ESE</td>\n",
       "      <td>41.0</td>\n",
       "      <td>ESE</td>\n",
       "      <td>...</td>\n",
       "      <td>95.0</td>\n",
       "      <td>1016.0</td>\n",
       "      <td>1015.3</td>\n",
       "      <td>8.0</td>\n",
       "      <td>8.0</td>\n",
       "      <td>22.1</td>\n",
       "      <td>21.2</td>\n",
       "      <td>Yes</td>\n",
       "      <td>2.6</td>\n",
       "      <td>Yes</td>\n",
       "    </tr>\n",
       "    <tr>\n",
       "      <th>4</th>\n",
       "      <td>2009-01-05</td>\n",
       "      <td>NorfolkIsland</td>\n",
       "      <td>20.4</td>\n",
       "      <td>23.5</td>\n",
       "      <td>2.6</td>\n",
       "      <td>2.2</td>\n",
       "      <td>2.9</td>\n",
       "      <td>ESE</td>\n",
       "      <td>52.0</td>\n",
       "      <td>ESE</td>\n",
       "      <td>...</td>\n",
       "      <td>86.0</td>\n",
       "      <td>1015.3</td>\n",
       "      <td>1013.7</td>\n",
       "      <td>7.0</td>\n",
       "      <td>7.0</td>\n",
       "      <td>21.8</td>\n",
       "      <td>21.6</td>\n",
       "      <td>Yes</td>\n",
       "      <td>0.0</td>\n",
       "      <td>No</td>\n",
       "    </tr>\n",
       "  </tbody>\n",
       "</table>\n",
       "<p>5 rows × 24 columns</p>\n",
       "</div>"
      ],
      "text/plain": [
       "         Date       Location  MinTemp  MaxTemp  Rainfall  Evaporation  \\\n",
       "0  2009-01-01  NorfolkIsland     20.4     25.8       0.0          6.0   \n",
       "1  2009-01-02  NorfolkIsland     20.9     26.7       0.2          8.0   \n",
       "2  2009-01-03  NorfolkIsland     22.3     26.3       0.0          3.2   \n",
       "3  2009-01-04  NorfolkIsland     21.6     22.2       1.2          2.8   \n",
       "4  2009-01-05  NorfolkIsland     20.4     23.5       2.6          2.2   \n",
       "\n",
       "   Sunshine WindGustDir  WindGustSpeed WindDir9am  ... Humidity3pm  \\\n",
       "0      12.4         NNW           31.0        NNW  ...        71.0   \n",
       "1      10.3           N           31.0        NNE  ...        77.0   \n",
       "2       2.0           E           35.0        ENE  ...        90.0   \n",
       "3       0.0         ESE           41.0        ESE  ...        95.0   \n",
       "4       2.9         ESE           52.0        ESE  ...        86.0   \n",
       "\n",
       "   Pressure9am  Pressure3pm  Cloud9am  Cloud3pm  Temp9am  Temp3pm  RainToday  \\\n",
       "0       1014.5       1013.6       3.0       1.0     23.3     24.7         No   \n",
       "1       1016.3       1015.5       2.0       5.0     25.0     25.1         No   \n",
       "2       1014.6       1014.3       7.0       7.0     24.7     23.8         No   \n",
       "3       1016.0       1015.3       8.0       8.0     22.1     21.2        Yes   \n",
       "4       1015.3       1013.7       7.0       7.0     21.8     21.6        Yes   \n",
       "\n",
       "   RISK_MM  RainTomorrow  \n",
       "0      0.2            No  \n",
       "1      0.0            No  \n",
       "2      1.2           Yes  \n",
       "3      2.6           Yes  \n",
       "4      0.0            No  \n",
       "\n",
       "[5 rows x 24 columns]"
      ]
     },
     "execution_count": 52,
     "metadata": {},
     "output_type": "execute_result"
    }
   ],
   "source": [
    "dataset = pd.read_csv('Extracted-dataset.csv')\n",
    "dataset.head()"
   ]
  },
  {
   "cell_type": "code",
   "execution_count": 53,
   "id": "93127247",
   "metadata": {},
   "outputs": [
    {
     "data": {
      "text/html": [
       "<div>\n",
       "<style scoped>\n",
       "    .dataframe tbody tr th:only-of-type {\n",
       "        vertical-align: middle;\n",
       "    }\n",
       "\n",
       "    .dataframe tbody tr th {\n",
       "        vertical-align: top;\n",
       "    }\n",
       "\n",
       "    .dataframe thead th {\n",
       "        text-align: right;\n",
       "    }\n",
       "</style>\n",
       "<table border=\"1\" class=\"dataframe\">\n",
       "  <thead>\n",
       "    <tr style=\"text-align: right;\">\n",
       "      <th></th>\n",
       "      <th>Date</th>\n",
       "      <th>Location</th>\n",
       "      <th>MinTemp</th>\n",
       "      <th>MaxTemp</th>\n",
       "      <th>Rainfall</th>\n",
       "      <th>Evaporation</th>\n",
       "      <th>Sunshine</th>\n",
       "      <th>WindGustDir</th>\n",
       "      <th>WindGustSpeed</th>\n",
       "      <th>WindDir9am</th>\n",
       "      <th>...</th>\n",
       "      <th>Humidity3pm</th>\n",
       "      <th>Pressure9am</th>\n",
       "      <th>Pressure3pm</th>\n",
       "      <th>Cloud9am</th>\n",
       "      <th>Cloud3pm</th>\n",
       "      <th>Temp9am</th>\n",
       "      <th>Temp3pm</th>\n",
       "      <th>RainToday</th>\n",
       "      <th>RISK_MM</th>\n",
       "      <th>RainTomorrow</th>\n",
       "    </tr>\n",
       "  </thead>\n",
       "  <tbody>\n",
       "    <tr>\n",
       "      <th>0</th>\n",
       "      <td>2009-01-01</td>\n",
       "      <td>NorfolkIsland</td>\n",
       "      <td>20.4</td>\n",
       "      <td>25.8</td>\n",
       "      <td>0.0</td>\n",
       "      <td>6.0</td>\n",
       "      <td>12.4</td>\n",
       "      <td>NNW</td>\n",
       "      <td>31.0</td>\n",
       "      <td>NNW</td>\n",
       "      <td>...</td>\n",
       "      <td>71.0</td>\n",
       "      <td>1014.5</td>\n",
       "      <td>1013.6</td>\n",
       "      <td>3.0</td>\n",
       "      <td>1.0</td>\n",
       "      <td>23.3</td>\n",
       "      <td>24.7</td>\n",
       "      <td>0.0</td>\n",
       "      <td>0.2</td>\n",
       "      <td>0</td>\n",
       "    </tr>\n",
       "    <tr>\n",
       "      <th>1</th>\n",
       "      <td>2009-01-02</td>\n",
       "      <td>NorfolkIsland</td>\n",
       "      <td>20.9</td>\n",
       "      <td>26.7</td>\n",
       "      <td>0.2</td>\n",
       "      <td>8.0</td>\n",
       "      <td>10.3</td>\n",
       "      <td>N</td>\n",
       "      <td>31.0</td>\n",
       "      <td>NNE</td>\n",
       "      <td>...</td>\n",
       "      <td>77.0</td>\n",
       "      <td>1016.3</td>\n",
       "      <td>1015.5</td>\n",
       "      <td>2.0</td>\n",
       "      <td>5.0</td>\n",
       "      <td>25.0</td>\n",
       "      <td>25.1</td>\n",
       "      <td>0.0</td>\n",
       "      <td>0.0</td>\n",
       "      <td>0</td>\n",
       "    </tr>\n",
       "    <tr>\n",
       "      <th>2</th>\n",
       "      <td>2009-01-03</td>\n",
       "      <td>NorfolkIsland</td>\n",
       "      <td>22.3</td>\n",
       "      <td>26.3</td>\n",
       "      <td>0.0</td>\n",
       "      <td>3.2</td>\n",
       "      <td>2.0</td>\n",
       "      <td>E</td>\n",
       "      <td>35.0</td>\n",
       "      <td>ENE</td>\n",
       "      <td>...</td>\n",
       "      <td>90.0</td>\n",
       "      <td>1014.6</td>\n",
       "      <td>1014.3</td>\n",
       "      <td>7.0</td>\n",
       "      <td>7.0</td>\n",
       "      <td>24.7</td>\n",
       "      <td>23.8</td>\n",
       "      <td>0.0</td>\n",
       "      <td>1.2</td>\n",
       "      <td>1</td>\n",
       "    </tr>\n",
       "    <tr>\n",
       "      <th>3</th>\n",
       "      <td>2009-01-04</td>\n",
       "      <td>NorfolkIsland</td>\n",
       "      <td>21.6</td>\n",
       "      <td>22.2</td>\n",
       "      <td>1.2</td>\n",
       "      <td>2.8</td>\n",
       "      <td>0.0</td>\n",
       "      <td>ESE</td>\n",
       "      <td>41.0</td>\n",
       "      <td>ESE</td>\n",
       "      <td>...</td>\n",
       "      <td>95.0</td>\n",
       "      <td>1016.0</td>\n",
       "      <td>1015.3</td>\n",
       "      <td>8.0</td>\n",
       "      <td>8.0</td>\n",
       "      <td>22.1</td>\n",
       "      <td>21.2</td>\n",
       "      <td>1.0</td>\n",
       "      <td>2.6</td>\n",
       "      <td>1</td>\n",
       "    </tr>\n",
       "    <tr>\n",
       "      <th>4</th>\n",
       "      <td>2009-01-05</td>\n",
       "      <td>NorfolkIsland</td>\n",
       "      <td>20.4</td>\n",
       "      <td>23.5</td>\n",
       "      <td>2.6</td>\n",
       "      <td>2.2</td>\n",
       "      <td>2.9</td>\n",
       "      <td>ESE</td>\n",
       "      <td>52.0</td>\n",
       "      <td>ESE</td>\n",
       "      <td>...</td>\n",
       "      <td>86.0</td>\n",
       "      <td>1015.3</td>\n",
       "      <td>1013.7</td>\n",
       "      <td>7.0</td>\n",
       "      <td>7.0</td>\n",
       "      <td>21.8</td>\n",
       "      <td>21.6</td>\n",
       "      <td>1.0</td>\n",
       "      <td>0.0</td>\n",
       "      <td>0</td>\n",
       "    </tr>\n",
       "  </tbody>\n",
       "</table>\n",
       "<p>5 rows × 24 columns</p>\n",
       "</div>"
      ],
      "text/plain": [
       "         Date       Location  MinTemp  MaxTemp  Rainfall  Evaporation  \\\n",
       "0  2009-01-01  NorfolkIsland     20.4     25.8       0.0          6.0   \n",
       "1  2009-01-02  NorfolkIsland     20.9     26.7       0.2          8.0   \n",
       "2  2009-01-03  NorfolkIsland     22.3     26.3       0.0          3.2   \n",
       "3  2009-01-04  NorfolkIsland     21.6     22.2       1.2          2.8   \n",
       "4  2009-01-05  NorfolkIsland     20.4     23.5       2.6          2.2   \n",
       "\n",
       "   Sunshine WindGustDir  WindGustSpeed WindDir9am  ... Humidity3pm  \\\n",
       "0      12.4         NNW           31.0        NNW  ...        71.0   \n",
       "1      10.3           N           31.0        NNE  ...        77.0   \n",
       "2       2.0           E           35.0        ENE  ...        90.0   \n",
       "3       0.0         ESE           41.0        ESE  ...        95.0   \n",
       "4       2.9         ESE           52.0        ESE  ...        86.0   \n",
       "\n",
       "   Pressure9am  Pressure3pm  Cloud9am  Cloud3pm  Temp9am  Temp3pm  RainToday  \\\n",
       "0       1014.5       1013.6       3.0       1.0     23.3     24.7        0.0   \n",
       "1       1016.3       1015.5       2.0       5.0     25.0     25.1        0.0   \n",
       "2       1014.6       1014.3       7.0       7.0     24.7     23.8        0.0   \n",
       "3       1016.0       1015.3       8.0       8.0     22.1     21.2        1.0   \n",
       "4       1015.3       1013.7       7.0       7.0     21.8     21.6        1.0   \n",
       "\n",
       "   RISK_MM  RainTomorrow  \n",
       "0      0.2             0  \n",
       "1      0.0             0  \n",
       "2      1.2             1  \n",
       "3      2.6             1  \n",
       "4      0.0             0  \n",
       "\n",
       "[5 rows x 24 columns]"
      ]
     },
     "execution_count": 53,
     "metadata": {},
     "output_type": "execute_result"
    }
   ],
   "source": [
    "dataset['RainToday'] = dataset['RainToday'].replace({'No': 0, 'Yes': 1})\n",
    "dataset['RainTomorrow'] = dataset['RainTomorrow'].replace({'No': 0, 'Yes': 1})\n",
    "dataset.head()"
   ]
  },
  {
   "cell_type": "code",
   "execution_count": 54,
   "id": "8cb4b993",
   "metadata": {},
   "outputs": [
    {
     "data": {
      "text/plain": [
       "RainTomorrow     1.000000\n",
       "RISK_MM          0.502849\n",
       "Humidity3pm      0.442813\n",
       "Cloud3pm         0.377486\n",
       "RainToday        0.313772\n",
       "Cloud9am         0.309105\n",
       "Humidity9am      0.252393\n",
       "Rainfall         0.241102\n",
       "WindGustSpeed    0.233864\n",
       "WindSpeed9am     0.091727\n",
       "WindSpeed3pm     0.090014\n",
       "MinTemp          0.073508\n",
       "Temp9am         -0.031605\n",
       "Evaporation     -0.122722\n",
       "MaxTemp         -0.163603\n",
       "Temp3pm         -0.195848\n",
       "Pressure3pm     -0.242843\n",
       "Pressure9am     -0.262722\n",
       "Sunshine        -0.445487\n",
       "Name: RainTomorrow, dtype: float64"
      ]
     },
     "execution_count": 54,
     "metadata": {},
     "output_type": "execute_result"
    }
   ],
   "source": [
    "numeric_df = dataset.select_dtypes(include=['float64', 'int64'])\n",
    "\n",
    "#  Compute Pearson correlation with 'RainTomorrow'\n",
    "correlation_with_target = numeric_df.corr()['RainTomorrow'].sort_values(ascending=False)\n",
    "\n",
    "correlation_with_target"
   ]
  },
  {
   "cell_type": "code",
   "execution_count": 55,
   "id": "2a0b0597",
   "metadata": {},
   "outputs": [
    {
     "data": {
      "text/plain": [
       "<Axes: ylabel='None'>"
      ]
     },
     "execution_count": 55,
     "metadata": {},
     "output_type": "execute_result"
    },
    {
     "data": {
      "image/png": "[encoded data removed]",
      "text/plain": [
       "<Figure size 640x480 with 1 Axes>"
      ]
     },
     "metadata": {},
     "output_type": "display_data"
    }
   ],
   "source": [
    "sns.barplot(\n",
    "    x=correlation_with_target.values,\n",
    "    y=correlation_with_target.index                #  .index gives us the row labels — which, in this case, are the names of the featu\n",
    ")"
   ]
  },
  {
   "cell_type": "markdown",
   "id": "c8f0c084",
   "metadata": {},
   "source": [
    "Data exploration and cleaning"
   ]
  },
  {
   "cell_type": "code",
   "execution_count": 56,
   "id": "2259a1f6",
   "metadata": {},
   "outputs": [
    {
     "name": "stdout",
     "output_type": "stream",
     "text": [
      "<class 'pandas.core.frame.DataFrame'>\n",
      "RangeIndex: 121575 entries, 0 to 121574\n",
      "Data columns (total 24 columns):\n",
      " #   Column         Non-Null Count   Dtype  \n",
      "---  ------         --------------   -----  \n",
      " 0   Date           121575 non-null  object \n",
      " 1   Location       121575 non-null  object \n",
      " 2   MinTemp        121260 non-null  float64\n",
      " 3   MaxTemp        121429 non-null  float64\n",
      " 4   Rainfall       120391 non-null  float64\n",
      " 5   Evaporation    74674 non-null   float64\n",
      " 6   Sunshine       70283 non-null   float64\n",
      " 7   WindGustDir    115654 non-null  object \n",
      " 8   WindGustSpeed  115713 non-null  float64\n",
      " 9   WindDir9am     114342 non-null  object \n",
      " 10  WindDir3pm     119492 non-null  object \n",
      " 11  WindSpeed9am   120767 non-null  float64\n",
      " 12  WindSpeed3pm   120162 non-null  float64\n",
      " 13  Humidity9am    120156 non-null  float64\n",
      " 14  Humidity3pm    119011 non-null  float64\n",
      " 15  Pressure9am    110963 non-null  float64\n",
      " 16  Pressure3pm    111001 non-null  float64\n",
      " 17  Cloud9am       77303 non-null   float64\n",
      " 18  Cloud3pm       74190 non-null   float64\n",
      " 19  Temp9am        120892 non-null  float64\n",
      " 20  Temp3pm        119755 non-null  float64\n",
      " 21  RainToday      120391 non-null  float64\n",
      " 22  RISK_MM        121575 non-null  float64\n",
      " 23  RainTomorrow   121575 non-null  int64  \n",
      "dtypes: float64(18), int64(1), object(5)\n",
      "memory usage: 22.3+ MB\n"
     ]
    }
   ],
   "source": [
    "dataset.info()"
   ]
  },
  {
   "cell_type": "code",
   "execution_count": 57,
   "id": "3eb66e8e",
   "metadata": {},
   "outputs": [
    {
     "name": "stdout",
     "output_type": "stream",
     "text": [
      "True\n"
     ]
    }
   ],
   "source": [
    "print('RainToday' in dataset.columns)"
   ]
  },
  {
   "cell_type": "markdown",
   "id": "9ae29b8f",
   "metadata": {},
   "source": [
    "    (i) Imputation and Transformation"
   ]
  },
  {
   "cell_type": "code",
   "execution_count": 58,
   "id": "8a80928c",
   "metadata": {},
   "outputs": [
    {
     "data": {
      "text/plain": [
       "Index(['Date', 'Location', 'WindGustDir', 'WindDir9am', 'WindDir3pm'], dtype='object')"
      ]
     },
     "execution_count": 58,
     "metadata": {},
     "output_type": "execute_result"
    }
   ],
   "source": [
    "dataset.select_dtypes(include=['object']).columns"
   ]
  },
  {
   "cell_type": "code",
   "execution_count": 59,
   "id": "df61d68b",
   "metadata": {},
   "outputs": [],
   "source": [
    "# Impute categorical var with Mode\n",
    "dataset['Date'] = dataset['Date'].fillna(dataset['Date'].mode()[0])\n",
    "dataset['Location'] = dataset['Location'].fillna(dataset['Location'].mode()[0])\n",
    "dataset['WindGustDir'] = dataset['WindGustDir'].fillna(dataset['WindGustDir'].mode()[0])\n",
    "dataset['WindDir9am'] = dataset['WindDir9am'].fillna(dataset['WindDir9am'].mode()[0])\n",
    "dataset['WindDir3pm'] = dataset['WindDir3pm'].fillna(dataset['WindDir3pm'].mode()[0])"
   ]
  },
  {
   "cell_type": "code",
   "execution_count": 60,
   "id": "ac3dc1d8",
   "metadata": {},
   "outputs": [],
   "source": [
    "# Convert categorical features/columns to continuous features with Label Encoding\n",
    "from sklearn.preprocessing import LabelEncoder\n",
    "lencoders = {}\n",
    "for col in dataset.select_dtypes(include=['object']).columns:\n",
    "    lencoders[col] = LabelEncoder()\n",
    "    dataset[col] = lencoders[col].fit_transform(dataset[col])"
   ]
  },
  {
   "cell_type": "code",
   "execution_count": 61,
   "id": "01d23b36",
   "metadata": {},
   "outputs": [],
   "source": [
    "import warnings\n",
    "warnings.filterwarnings(\"ignore\")"
   ]
  },
  {
   "cell_type": "code",
   "execution_count": 62,
   "id": "2f817b0a",
   "metadata": {},
   "outputs": [],
   "source": [
    "# Multiple Imputation by Chained Equations/Impute numerical missing values\n",
    "from sklearn.experimental import enable_iterative_imputer\n",
    "from sklearn.impute import IterativeImputer\n",
    "\n",
    "MiceImputed = dataset.copy(deep=True)\n",
    "mice_imputer = IterativeImputer()\n",
    "MiceImputed.iloc[:, :] = mice_imputer.fit_transform(dataset)"
   ]
  },
  {
   "cell_type": "code",
   "execution_count": 63,
   "id": "8aba5758",
   "metadata": {},
   "outputs": [
    {
     "data": {
      "text/html": [
       "<div>\n",
       "<style scoped>\n",
       "    .dataframe tbody tr th:only-of-type {\n",
       "        vertical-align: middle;\n",
       "    }\n",
       "\n",
       "    .dataframe tbody tr th {\n",
       "        vertical-align: top;\n",
       "    }\n",
       "\n",
       "    .dataframe thead th {\n",
       "        text-align: right;\n",
       "    }\n",
       "</style>\n",
       "<table border=\"1\" class=\"dataframe\">\n",
       "  <thead>\n",
       "    <tr style=\"text-align: right;\">\n",
       "      <th></th>\n",
       "      <th>Date</th>\n",
       "      <th>Location</th>\n",
       "      <th>MinTemp</th>\n",
       "      <th>MaxTemp</th>\n",
       "      <th>Rainfall</th>\n",
       "      <th>Evaporation</th>\n",
       "      <th>Sunshine</th>\n",
       "      <th>WindGustDir</th>\n",
       "      <th>WindGustSpeed</th>\n",
       "      <th>WindDir9am</th>\n",
       "      <th>...</th>\n",
       "      <th>Humidity3pm</th>\n",
       "      <th>Pressure9am</th>\n",
       "      <th>Pressure3pm</th>\n",
       "      <th>Cloud9am</th>\n",
       "      <th>Cloud3pm</th>\n",
       "      <th>Temp9am</th>\n",
       "      <th>Temp3pm</th>\n",
       "      <th>RainToday</th>\n",
       "      <th>RISK_MM</th>\n",
       "      <th>RainTomorrow</th>\n",
       "    </tr>\n",
       "  </thead>\n",
       "  <tbody>\n",
       "    <tr>\n",
       "      <th>0</th>\n",
       "      <td>427</td>\n",
       "      <td>20</td>\n",
       "      <td>20.4</td>\n",
       "      <td>25.8</td>\n",
       "      <td>0.0</td>\n",
       "      <td>6.0</td>\n",
       "      <td>12.4</td>\n",
       "      <td>6</td>\n",
       "      <td>31.0</td>\n",
       "      <td>6</td>\n",
       "      <td>...</td>\n",
       "      <td>71.0</td>\n",
       "      <td>1014.5</td>\n",
       "      <td>1013.6</td>\n",
       "      <td>3.0</td>\n",
       "      <td>1.0</td>\n",
       "      <td>23.3</td>\n",
       "      <td>24.7</td>\n",
       "      <td>0.0</td>\n",
       "      <td>0.2</td>\n",
       "      <td>0</td>\n",
       "    </tr>\n",
       "    <tr>\n",
       "      <th>1</th>\n",
       "      <td>428</td>\n",
       "      <td>20</td>\n",
       "      <td>20.9</td>\n",
       "      <td>26.7</td>\n",
       "      <td>0.2</td>\n",
       "      <td>8.0</td>\n",
       "      <td>10.3</td>\n",
       "      <td>3</td>\n",
       "      <td>31.0</td>\n",
       "      <td>5</td>\n",
       "      <td>...</td>\n",
       "      <td>77.0</td>\n",
       "      <td>1016.3</td>\n",
       "      <td>1015.5</td>\n",
       "      <td>2.0</td>\n",
       "      <td>5.0</td>\n",
       "      <td>25.0</td>\n",
       "      <td>25.1</td>\n",
       "      <td>0.0</td>\n",
       "      <td>0.0</td>\n",
       "      <td>0</td>\n",
       "    </tr>\n",
       "    <tr>\n",
       "      <th>2</th>\n",
       "      <td>429</td>\n",
       "      <td>20</td>\n",
       "      <td>22.3</td>\n",
       "      <td>26.3</td>\n",
       "      <td>0.0</td>\n",
       "      <td>3.2</td>\n",
       "      <td>2.0</td>\n",
       "      <td>0</td>\n",
       "      <td>35.0</td>\n",
       "      <td>1</td>\n",
       "      <td>...</td>\n",
       "      <td>90.0</td>\n",
       "      <td>1014.6</td>\n",
       "      <td>1014.3</td>\n",
       "      <td>7.0</td>\n",
       "      <td>7.0</td>\n",
       "      <td>24.7</td>\n",
       "      <td>23.8</td>\n",
       "      <td>0.0</td>\n",
       "      <td>1.2</td>\n",
       "      <td>1</td>\n",
       "    </tr>\n",
       "    <tr>\n",
       "      <th>3</th>\n",
       "      <td>430</td>\n",
       "      <td>20</td>\n",
       "      <td>21.6</td>\n",
       "      <td>22.2</td>\n",
       "      <td>1.2</td>\n",
       "      <td>2.8</td>\n",
       "      <td>0.0</td>\n",
       "      <td>2</td>\n",
       "      <td>41.0</td>\n",
       "      <td>2</td>\n",
       "      <td>...</td>\n",
       "      <td>95.0</td>\n",
       "      <td>1016.0</td>\n",
       "      <td>1015.3</td>\n",
       "      <td>8.0</td>\n",
       "      <td>8.0</td>\n",
       "      <td>22.1</td>\n",
       "      <td>21.2</td>\n",
       "      <td>1.0</td>\n",
       "      <td>2.6</td>\n",
       "      <td>1</td>\n",
       "    </tr>\n",
       "    <tr>\n",
       "      <th>4</th>\n",
       "      <td>431</td>\n",
       "      <td>20</td>\n",
       "      <td>20.4</td>\n",
       "      <td>23.5</td>\n",
       "      <td>2.6</td>\n",
       "      <td>2.2</td>\n",
       "      <td>2.9</td>\n",
       "      <td>2</td>\n",
       "      <td>52.0</td>\n",
       "      <td>2</td>\n",
       "      <td>...</td>\n",
       "      <td>86.0</td>\n",
       "      <td>1015.3</td>\n",
       "      <td>1013.7</td>\n",
       "      <td>7.0</td>\n",
       "      <td>7.0</td>\n",
       "      <td>21.8</td>\n",
       "      <td>21.6</td>\n",
       "      <td>1.0</td>\n",
       "      <td>0.0</td>\n",
       "      <td>0</td>\n",
       "    </tr>\n",
       "  </tbody>\n",
       "</table>\n",
       "<p>5 rows × 24 columns</p>\n",
       "</div>"
      ],
      "text/plain": [
       "   Date  Location  MinTemp  MaxTemp  Rainfall  Evaporation  Sunshine  \\\n",
       "0   427        20     20.4     25.8       0.0          6.0      12.4   \n",
       "1   428        20     20.9     26.7       0.2          8.0      10.3   \n",
       "2   429        20     22.3     26.3       0.0          3.2       2.0   \n",
       "3   430        20     21.6     22.2       1.2          2.8       0.0   \n",
       "4   431        20     20.4     23.5       2.6          2.2       2.9   \n",
       "\n",
       "   WindGustDir  WindGustSpeed  WindDir9am  ...  Humidity3pm  Pressure9am  \\\n",
       "0            6           31.0           6  ...         71.0       1014.5   \n",
       "1            3           31.0           5  ...         77.0       1016.3   \n",
       "2            0           35.0           1  ...         90.0       1014.6   \n",
       "3            2           41.0           2  ...         95.0       1016.0   \n",
       "4            2           52.0           2  ...         86.0       1015.3   \n",
       "\n",
       "   Pressure3pm  Cloud9am  Cloud3pm  Temp9am  Temp3pm  RainToday  RISK_MM  \\\n",
       "0       1013.6       3.0       1.0     23.3     24.7        0.0      0.2   \n",
       "1       1015.5       2.0       5.0     25.0     25.1        0.0      0.0   \n",
       "2       1014.3       7.0       7.0     24.7     23.8        0.0      1.2   \n",
       "3       1015.3       8.0       8.0     22.1     21.2        1.0      2.6   \n",
       "4       1013.7       7.0       7.0     21.8     21.6        1.0      0.0   \n",
       "\n",
       "   RainTomorrow  \n",
       "0             0  \n",
       "1             0  \n",
       "2             1  \n",
       "3             1  \n",
       "4             0  \n",
       "\n",
       "[5 rows x 24 columns]"
      ]
     },
     "execution_count": 63,
     "metadata": {},
     "output_type": "execute_result"
    }
   ],
   "source": [
    "MiceImputed.head()"
   ]
  },
  {
   "cell_type": "markdown",
   "id": "c426cdcf",
   "metadata": {},
   "source": [
    "    (ii)Detecting outliers with inter quartile range"
   ]
  },
  {
   "cell_type": "code",
   "execution_count": 65,
   "id": "12396554",
   "metadata": {},
   "outputs": [
    {
     "name": "stdout",
     "output_type": "stream",
     "text": [
      "Date             1532.00000\n",
      "Location           22.00000\n",
      "MinTemp             9.10000\n",
      "MaxTemp            10.60000\n",
      "Rainfall            0.80000\n",
      "Evaporation         4.40000\n",
      "Sunshine            5.30000\n",
      "WindGustDir         8.00000\n",
      "WindGustSpeed      17.00000\n",
      "WindDir9am          8.00000\n",
      "WindDir3pm          8.00000\n",
      "WindSpeed9am       13.00000\n",
      "WindSpeed3pm       11.00000\n",
      "Humidity9am        26.00000\n",
      "Humidity3pm        29.00000\n",
      "Pressure9am         8.70000\n",
      "Pressure3pm         8.90000\n",
      "Cloud9am            5.00000\n",
      "Cloud3pm            4.33403\n",
      "Temp9am             9.40000\n",
      "Temp3pm            10.10000\n",
      "RainToday           0.00000\n",
      "RISK_MM             0.80000\n",
      "RainTomorrow        0.00000\n",
      "dtype: float64\n"
     ]
    }
   ],
   "source": [
    "Q1 = MiceImputed.quantile(0.25)\n",
    "Q3 = MiceImputed.quantile(0.75)\n",
    "IQR = Q3 - Q1\n",
    "print(IQR)"
   ]
  },
  {
   "cell_type": "code",
   "execution_count": 75,
   "id": "9d5aebd6",
   "metadata": {},
   "outputs": [
    {
     "name": "stdout",
     "output_type": "stream",
     "text": [
      "Before outlier removal:\n",
      "RainTomorrow\n",
      "0    94087\n",
      "1    27488\n",
      "Name: count, dtype: int64\n"
     ]
    }
   ],
   "source": [
    "print(\"Before outlier removal:\")\n",
    "print(dataset['RainTomorrow'].value_counts())"
   ]
  },
  {
   "cell_type": "code",
   "execution_count": 66,
   "id": "39100d72",
   "metadata": {},
   "outputs": [
    {
     "data": {
      "text/plain": [
       "(73540, 24)"
      ]
     },
     "execution_count": 66,
     "metadata": {},
     "output_type": "execute_result"
    }
   ],
   "source": [
    "# Removing outliers from dataset\n",
    "MiceImputed = MiceImputed[~((MiceImputed < (Q1 - 1.5 * IQR)) |(MiceImputed > (Q3 + 1.5 * IQR))).any(axis=1)]\n",
    "MiceImputed.shape"
   ]
  },
  {
   "cell_type": "code",
   "execution_count": 76,
   "id": "7ddae14e",
   "metadata": {},
   "outputs": [
    {
     "name": "stdout",
     "output_type": "stream",
     "text": [
      "After outlier removal:\n",
      "RainTomorrow\n",
      "0    73540\n",
      "Name: count, dtype: int64\n"
     ]
    }
   ],
   "source": [
    "print(\"After outlier removal:\")\n",
    "print(MiceImputed['RainTomorrow'].value_counts())"
   ]
  },
  {
   "cell_type": "markdown",
   "id": "fbe3f411",
   "metadata": {},
   "source": [
    "Data preprocessing"
   ]
  },
  {
   "cell_type": "code",
   "execution_count": 74,
   "id": "06dc3fbb",
   "metadata": {},
   "outputs": [
    {
     "data": {
      "image/png": "[encoded data removed]",
      "text/plain": [
       "<Figure size 800x500 with 1 Axes>"
      ]
     },
     "metadata": {},
     "output_type": "display_data"
    }
   ],
   "source": [
    "import matplotlib.pyplot as plt\n",
    "fig = plt.figure(figsize = (8,5))\n",
    "MiceImputed.RainTomorrow.value_counts(normalize = True).plot(kind='bar', color= ['skyblue','navy'], alpha = 0.9, rot=0)  \n",
    "plt.title('RainTomorrow Indicator No(0) and Yes(1) in the Imbalanced Dataset')\n",
    "plt.show()"
   ]
  },
  {
   "cell_type": "markdown",
   "id": "7ced60c8",
   "metadata": {},
   "source": [
    "      (i) Handling class imbalance usinng oversampling"
   ]
  },
  {
   "cell_type": "code",
   "execution_count": 71,
   "id": "8adafa5e",
   "metadata": {},
   "outputs": [
    {
     "name": "stdout",
     "output_type": "stream",
     "text": [
      "No samples with RainTomorrow == 1 found. Oversampling cannot be performed.\n"
     ]
    }
   ],
   "source": [
    "from sklearn.utils import resample\n",
    "\n",
    "no = MiceImputed[MiceImputed.RainTomorrow == 0]\n",
    "yes = MiceImputed[MiceImputed.RainTomorrow == 1]\n",
    "\n",
    "if len(yes) > 0:\n",
    "\tyes_oversampled = resample(yes, replace=True, n_samples=len(no), random_state=123)\n",
    "\toversampled = pd.concat([no, yes_oversampled])\n",
    "\tfig = plt.figure(figsize = (8,5))\n",
    "\toversampled.RainTomorrow.value_counts(normalize = True).plot(kind='bar', color= ['skyblue','navy'], alpha = 0.9, rot=0)\n",
    "\tplt.title('RainTomorrow Indicator No(0) and Yes(1) after Oversampling (Balanced Dataset)')\n",
    "\tplt.show()\n",
    "else:\n",
    "\tprint(\"No samples with RainTomorrow == 1 found. Oversampling cannot be performed.\")"
   ]
  },
  {
   "cell_type": "code",
   "execution_count": null,
   "id": "84dad15f",
   "metadata": {},
   "outputs": [
    {
     "data": {
      "text/plain": [
       "((121575, 24), (188174, 24))"
      ]
     },
     "execution_count": 46,
     "metadata": {},
     "output_type": "execute_result"
    }
   ],
   "source": [
    "MiceImputed.shape, oversampled.shape"
   ]
  },
  {
   "cell_type": "code",
   "execution_count": 72,
   "id": "53ddecc3",
   "metadata": {},
   "outputs": [
    {
     "data": {
      "image/png": "[encoded data removed]",
      "text/plain": [
       "<Figure size 640x480 with 1 Axes>"
      ]
     },
     "metadata": {},
     "output_type": "display_data"
    }
   ],
   "source": [
    "sns.heatmap(MiceImputed.isnull(), cbar=False, cmap='viridis')\n",
    "plt.title('Missing Values Heatmap')\n",
    "plt.show()"
   ]
  },
  {
   "cell_type": "code",
   "execution_count": 73,
   "id": "7c7569c3",
   "metadata": {},
   "outputs": [
    {
     "data": {
      "text/html": [
       "<div>\n",
       "<style scoped>\n",
       "    .dataframe tbody tr th:only-of-type {\n",
       "        vertical-align: middle;\n",
       "    }\n",
       "\n",
       "    .dataframe tbody tr th {\n",
       "        vertical-align: top;\n",
       "    }\n",
       "\n",
       "    .dataframe thead th {\n",
       "        text-align: right;\n",
       "    }\n",
       "</style>\n",
       "<table border=\"1\" class=\"dataframe\">\n",
       "  <thead>\n",
       "    <tr style=\"text-align: right;\">\n",
       "      <th></th>\n",
       "      <th>Total</th>\n",
       "      <th>Percent</th>\n",
       "    </tr>\n",
       "  </thead>\n",
       "  <tbody>\n",
       "    <tr>\n",
       "      <th>Sunshine</th>\n",
       "      <td>30628</td>\n",
       "      <td>0.208240</td>\n",
       "    </tr>\n",
       "    <tr>\n",
       "      <th>Evaporation</th>\n",
       "      <td>28790</td>\n",
       "      <td>0.195744</td>\n",
       "    </tr>\n",
       "    <tr>\n",
       "      <th>Cloud3pm</th>\n",
       "      <td>25924</td>\n",
       "      <td>0.176258</td>\n",
       "    </tr>\n",
       "    <tr>\n",
       "      <th>Cloud9am</th>\n",
       "      <td>25213</td>\n",
       "      <td>0.171424</td>\n",
       "    </tr>\n",
       "  </tbody>\n",
       "</table>\n",
       "</div>"
      ],
      "text/plain": [
       "             Total   Percent\n",
       "Sunshine     30628  0.208240\n",
       "Evaporation  28790  0.195744\n",
       "Cloud3pm     25924  0.176258\n",
       "Cloud9am     25213  0.171424"
      ]
     },
     "execution_count": 73,
     "metadata": {},
     "output_type": "execute_result"
    }
   ],
   "source": [
    "total = oversampled.isnull().sum().sort_values(ascending=False)\n",
    "percent = (oversampled.isnull().sum()/oversampled.isnull().count()).sort_values(ascending=False)\n",
    "missing = pd.concat([total, percent], axis=1, keys=['Total', 'Percent'])\n",
    "missing.head(4)"
   ]
  }
 ],
 "metadata": {
  "kernelspec": {
   "display_name": "Python 3",
   "language": "python",
   "name": "python3"
  },
  "language_info": {
   "codemirror_mode": {
    "name": "ipython",
    "version": 3
   },
   "file_extension": ".py",
   "mimetype": "text/x-python",
   "name": "python",
   "nbconvert_exporter": "python",
   "pygments_lexer": "ipython3",
   "version": "3.13.1"
  }
 },
 "nbformat": 4,
 "nbformat_minor": 5
}
